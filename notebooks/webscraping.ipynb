{
 "cells": [
  {
   "cell_type": "markdown",
   "id": "8e59730b",
   "metadata": {},
   "source": [
    "## Notes\n",
    "\n",
    "Test URL: 'https://www.rcsb.org/structure/7L1E'\n",
    "\n",
    "URL with Classes: https://opm.phar.umich.edu/ <br>\n",
    "*see Structure Statistics subheading for class breakdown\n",
    "\n"
   ]
  },
  {
   "cell_type": "code",
   "execution_count": 1,
   "id": "9e430a5e",
   "metadata": {},
   "outputs": [],
   "source": [
    "import requests"
   ]
  },
  {
   "cell_type": "code",
   "execution_count": 2,
   "id": "52e3b7a5",
   "metadata": {},
   "outputs": [],
   "source": [
    "import os"
   ]
  },
  {
   "cell_type": "code",
   "execution_count": 3,
   "id": "56b09ad4",
   "metadata": {},
   "outputs": [],
   "source": [
    "from bs4 import BeautifulSoup"
   ]
  },
  {
   "cell_type": "code",
   "execution_count": 4,
   "id": "7eb0149d",
   "metadata": {},
   "outputs": [],
   "source": [
    "def download_fasta(url, filename, download_path=\"/home/ctomlin/personal/gnn/database/fasta_files/scraped_files\"):\n",
    "    try:\n",
    "        response = requests.get(url, stream=True)\n",
    "        response.raise_for_status()\n",
    "\n",
    "        filepath = os.path.join(download_path, filename)\n",
    "        with open(filepath, 'wb') as f:\n",
    "            for chunk in response.iter_content(chunk_size=8192):\n",
    "                f.write(chunk)\n",
    "        print(f'Downloaded: {filename}')\n",
    "    except requests.exceptions.RequestException as e:\n",
    "        print(f'Error downloading {filename}: {e}')"
   ]
  },
  {
   "cell_type": "code",
   "execution_count": 7,
   "id": "b3bf59cb",
   "metadata": {},
   "outputs": [],
   "source": [
    "def scrape_files(url, download_path=\"/home/ctomlin/personal/gnn/database/fasta_files/scraped_files\"):\n",
    "    try:\n",
    "        response = requests.get(url)\n",
    "        response.raise_for_status()\n",
    "        soup = BeautifulSoup(response.content, 'html.parser')\n",
    "\n",
    "        for link in soup.find_all('a', href=True):\n",
    "            href=link['href']\n",
    "            if 'fasta' in href:\n",
    "                file_url = url + href if not href.startswith('http') else href\n",
    "                file_name = os.path.basename(href)\n",
    "                download_fasta(file_url, file_name, download_path)\n",
    "\n",
    "    except requests.exceptions.RequestException as e:\n",
    "        print(f'Error scraping {url}: {e}')"
   ]
  },
  {
   "cell_type": "code",
   "execution_count": 8,
   "id": "56135f1b",
   "metadata": {},
   "outputs": [
    {
     "name": "stdout",
     "output_type": "stream",
     "text": [
      "Error downloading fasta: 404 Client Error: Not Found for url: https://www.rcsb.org/structure/7L1E/downloads/fasta\n",
      "Error downloading display: 404 Client Error: Not Found for url: https://www.rcsb.org/structure/7L1E/fasta/entry/7L1E/display\n",
      "Error downloading 7L1E: 404 Client Error: Not Found for url: https://www.rcsb.org/structure/7L1E/fasta/entry/7L1E\n"
     ]
    }
   ],
   "source": [
    "target = 'https://www.rcsb.org/structure/7L1E'\n",
    "download_path = '../database/fasta_files/scraped_files'\n",
    "\n",
    "if not os.path.exists(download_path):\n",
    "    os.makedirs(download_path)\n",
    "\n",
    "scrape_files(target, download_path)"
   ]
  },
  {
   "cell_type": "code",
   "execution_count": null,
   "id": "e3865aec",
   "metadata": {},
   "outputs": [],
   "source": []
  }
 ],
 "metadata": {
  "kernelspec": {
   "display_name": "gnn_workspace",
   "language": "python",
   "name": "python3"
  },
  "language_info": {
   "codemirror_mode": {
    "name": "ipython",
    "version": 3
   },
   "file_extension": ".py",
   "mimetype": "text/x-python",
   "name": "python",
   "nbconvert_exporter": "python",
   "pygments_lexer": "ipython3",
   "version": "3.12.11"
  }
 },
 "nbformat": 4,
 "nbformat_minor": 5
}
