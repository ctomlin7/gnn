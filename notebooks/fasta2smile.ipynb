{
 "cells": [
  {
   "cell_type": "code",
   "execution_count": 1,
   "id": "9c002561",
   "metadata": {},
   "outputs": [
    {
     "name": "stdout",
     "output_type": "stream",
     "text": [
      "Collecting p2smi\n",
      "  Downloading p2smi-1.0.0-py3-none-any.whl.metadata (5.2 kB)\n",
      "Requirement already satisfied: rdkit in /home/ctomlin/miniforge3/envs/gnn_workspace/lib/python3.12/site-packages (from p2smi) (2025.3.4)\n",
      "Requirement already satisfied: numpy in /home/ctomlin/miniforge3/envs/gnn_workspace/lib/python3.12/site-packages (from p2smi) (2.3.2)\n",
      "Downloading p2smi-1.0.0-py3-none-any.whl (33 kB)\n",
      "Installing collected packages: p2smi\n",
      "Successfully installed p2smi-1.0.0\n",
      "Note: you may need to restart the kernel to use updated packages.\n"
     ]
    }
   ],
   "source": [
    "pip install p2smi"
   ]
  },
  {
   "cell_type": "code",
   "execution_count": 3,
   "id": "46372b74",
   "metadata": {},
   "outputs": [
    {
     "name": "stdout",
     "output_type": "stream",
     "text": [
      "Collecting Bio\n",
      "  Downloading bio-1.8.0-py3-none-any.whl.metadata (5.7 kB)\n",
      "Collecting biopython>=1.80 (from Bio)\n",
      "  Downloading biopython-1.85-cp312-cp312-manylinux_2_17_x86_64.manylinux2014_x86_64.whl.metadata (13 kB)\n",
      "Collecting gprofiler-official (from Bio)\n",
      "  Downloading gprofiler_official-1.0.0-py3-none-any.whl.metadata (11 kB)\n",
      "Collecting mygene (from Bio)\n",
      "  Downloading mygene-3.2.2-py2.py3-none-any.whl.metadata (10 kB)\n",
      "Requirement already satisfied: pandas in /home/ctomlin/miniforge3/envs/gnn_workspace/lib/python3.12/site-packages (from Bio) (2.3.1)\n",
      "Collecting pooch (from Bio)\n",
      "  Downloading pooch-1.8.2-py3-none-any.whl.metadata (10 kB)\n",
      "Requirement already satisfied: requests in /home/ctomlin/miniforge3/envs/gnn_workspace/lib/python3.12/site-packages (from Bio) (2.32.4)\n",
      "Requirement already satisfied: tqdm in /home/ctomlin/miniforge3/envs/gnn_workspace/lib/python3.12/site-packages (from Bio) (4.67.1)\n",
      "Requirement already satisfied: numpy in /home/ctomlin/miniforge3/envs/gnn_workspace/lib/python3.12/site-packages (from biopython>=1.80->Bio) (2.3.2)\n",
      "Collecting biothings-client>=0.2.6 (from mygene->Bio)\n",
      "  Downloading biothings_client-0.4.1-py3-none-any.whl.metadata (10 kB)\n",
      "Requirement already satisfied: httpx>=0.22.0 in /home/ctomlin/miniforge3/envs/gnn_workspace/lib/python3.12/site-packages (from biothings-client>=0.2.6->mygene->Bio) (0.28.1)\n",
      "Requirement already satisfied: anyio in /home/ctomlin/miniforge3/envs/gnn_workspace/lib/python3.12/site-packages (from httpx>=0.22.0->biothings-client>=0.2.6->mygene->Bio) (4.9.0)\n",
      "Requirement already satisfied: certifi in /home/ctomlin/miniforge3/envs/gnn_workspace/lib/python3.12/site-packages (from httpx>=0.22.0->biothings-client>=0.2.6->mygene->Bio) (2025.7.14)\n",
      "Requirement already satisfied: httpcore==1.* in /home/ctomlin/miniforge3/envs/gnn_workspace/lib/python3.12/site-packages (from httpx>=0.22.0->biothings-client>=0.2.6->mygene->Bio) (1.0.9)\n",
      "Requirement already satisfied: idna in /home/ctomlin/miniforge3/envs/gnn_workspace/lib/python3.12/site-packages (from httpx>=0.22.0->biothings-client>=0.2.6->mygene->Bio) (3.10)\n",
      "Requirement already satisfied: h11>=0.16 in /home/ctomlin/miniforge3/envs/gnn_workspace/lib/python3.12/site-packages (from httpcore==1.*->httpx>=0.22.0->biothings-client>=0.2.6->mygene->Bio) (0.16.0)\n",
      "Requirement already satisfied: sniffio>=1.1 in /home/ctomlin/miniforge3/envs/gnn_workspace/lib/python3.12/site-packages (from anyio->httpx>=0.22.0->biothings-client>=0.2.6->mygene->Bio) (1.3.1)\n",
      "Requirement already satisfied: typing_extensions>=4.5 in /home/ctomlin/miniforge3/envs/gnn_workspace/lib/python3.12/site-packages (from anyio->httpx>=0.22.0->biothings-client>=0.2.6->mygene->Bio) (4.14.1)\n",
      "Requirement already satisfied: python-dateutil>=2.8.2 in /home/ctomlin/miniforge3/envs/gnn_workspace/lib/python3.12/site-packages (from pandas->Bio) (2.9.0.post0)\n",
      "Requirement already satisfied: pytz>=2020.1 in /home/ctomlin/miniforge3/envs/gnn_workspace/lib/python3.12/site-packages (from pandas->Bio) (2025.2)\n",
      "Requirement already satisfied: tzdata>=2022.7 in /home/ctomlin/miniforge3/envs/gnn_workspace/lib/python3.12/site-packages (from pandas->Bio) (2025.2)\n",
      "Requirement already satisfied: six>=1.5 in /home/ctomlin/miniforge3/envs/gnn_workspace/lib/python3.12/site-packages (from python-dateutil>=2.8.2->pandas->Bio) (1.17.0)\n",
      "Requirement already satisfied: platformdirs>=2.5.0 in /home/ctomlin/miniforge3/envs/gnn_workspace/lib/python3.12/site-packages (from pooch->Bio) (4.3.8)\n",
      "Requirement already satisfied: packaging>=20.0 in /home/ctomlin/miniforge3/envs/gnn_workspace/lib/python3.12/site-packages (from pooch->Bio) (25.0)\n",
      "Requirement already satisfied: charset_normalizer<4,>=2 in /home/ctomlin/miniforge3/envs/gnn_workspace/lib/python3.12/site-packages (from requests->Bio) (3.4.2)\n",
      "Requirement already satisfied: urllib3<3,>=1.21.1 in /home/ctomlin/miniforge3/envs/gnn_workspace/lib/python3.12/site-packages (from requests->Bio) (2.5.0)\n",
      "Downloading bio-1.8.0-py3-none-any.whl (321 kB)\n",
      "Downloading biopython-1.85-cp312-cp312-manylinux_2_17_x86_64.manylinux2014_x86_64.whl (3.3 MB)\n",
      "\u001b[2K   \u001b[90m━━━━━━━━━━━━━━━━━━━━━━━━━━━━━━━━━━━━━━━━\u001b[0m \u001b[32m3.3/3.3 MB\u001b[0m \u001b[31m1.4 MB/s\u001b[0m eta \u001b[36m0:00:00\u001b[0ma \u001b[36m0:00:01\u001b[0m\n",
      "\u001b[?25hDownloading gprofiler_official-1.0.0-py3-none-any.whl (9.3 kB)\n",
      "Downloading mygene-3.2.2-py2.py3-none-any.whl (5.4 kB)\n",
      "Downloading biothings_client-0.4.1-py3-none-any.whl (46 kB)\n",
      "Downloading pooch-1.8.2-py3-none-any.whl (64 kB)\n",
      "Installing collected packages: biopython, pooch, gprofiler-official, biothings-client, mygene, Bio\n",
      "\u001b[2K   \u001b[90m━━━━━━━━━━━━━━━━━━━━━━━━━━━━━━━━━━━━━━━━\u001b[0m \u001b[32m6/6\u001b[0m [Bio]ython]\n",
      "\u001b[1A\u001b[2KSuccessfully installed Bio-1.8.0 biopython-1.85 biothings-client-0.4.1 gprofiler-official-1.0.0 mygene-3.2.2 pooch-1.8.2\n",
      "Note: you may need to restart the kernel to use updated packages.\n"
     ]
    }
   ],
   "source": [
    "pip install Bio"
   ]
  },
  {
   "cell_type": "code",
   "execution_count": 4,
   "id": "db78c391",
   "metadata": {},
   "outputs": [],
   "source": [
    "from Bio import SeqIO"
   ]
  },
  {
   "cell_type": "code",
   "execution_count": 8,
   "id": "c25ec5ef",
   "metadata": {},
   "outputs": [],
   "source": [
    "from p2smi import fasta2smi"
   ]
  },
  {
   "cell_type": "code",
   "execution_count": 10,
   "id": "6d760a1e",
   "metadata": {},
   "outputs": [
    {
     "name": "stdout",
     "output_type": "stream",
     "text": [
      "FASTA: \n",
      "SMILES: <generator object parse_fasta at 0x7b2f71366840>\n"
     ]
    }
   ],
   "source": [
    "fasta_path = \"/home/ctomlin/personal/gnn/database/fasta_files/rcsb_pdb_7L1E.fasta\"\n",
    "smiles_string = fasta2smi.parse_fasta(fasta_path)\n",
    "print(f\"FASTA: \\nSMILES: {smiles_string}\")"
   ]
  },
  {
   "cell_type": "code",
   "execution_count": null,
   "id": "de36b0d4",
   "metadata": {},
   "outputs": [
    {
     "data": {
      "text/plain": [
       "<generator object parse_fasta at 0x7b2f71366840>"
      ]
     },
     "execution_count": 12,
     "metadata": {},
     "output_type": "execute_result"
    }
   ],
   "source": [
    "smiles_string"
   ]
  },
  {
   "cell_type": "code",
   "execution_count": 15,
   "id": "e3569fd4",
   "metadata": {},
   "outputs": [
    {
     "data": {
      "text/plain": [
       "<generator object process_constraints.<locals>.<genexpr> at 0x7b2f46a960a0>"
      ]
     },
     "execution_count": 15,
     "metadata": {},
     "output_type": "execute_result"
    }
   ],
   "source": [
    "fasta2smi.process_constraints(smiles_string)"
   ]
  },
  {
   "cell_type": "code",
   "execution_count": null,
   "id": "c22de5f8",
   "metadata": {},
   "outputs": [],
   "source": []
  }
 ],
 "metadata": {
  "kernelspec": {
   "display_name": "gnn_workspace",
   "language": "python",
   "name": "python3"
  },
  "language_info": {
   "codemirror_mode": {
    "name": "ipython",
    "version": 3
   },
   "file_extension": ".py",
   "mimetype": "text/x-python",
   "name": "python",
   "nbconvert_exporter": "python",
   "pygments_lexer": "ipython3",
   "version": "3.12.11"
  }
 },
 "nbformat": 4,
 "nbformat_minor": 5
}
